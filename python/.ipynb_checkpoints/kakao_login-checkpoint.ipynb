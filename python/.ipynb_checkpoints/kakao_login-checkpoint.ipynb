{
 "cells": [
  {
   "cell_type": "code",
   "execution_count": null,
   "id": "4766abcb",
   "metadata": {},
   "outputs": [
    {
     "name": "stdout",
     "output_type": "stream",
     "text": [
      " * Serving Flask app \"__main__\" (lazy loading)\n",
      " * Environment: production\n",
      "   WARNING: This is a development server. Do not use it in a production deployment.\n",
      "   Use a production WSGI server instead.\n",
      " * Debug mode: off\n"
     ]
    },
    {
     "name": "stderr",
     "output_type": "stream",
     "text": [
      " * Running on http://127.0.0.1:5000/ (Press CTRL+C to quit)\n"
     ]
    }
   ],
   "source": [
    "from flask import Flask\n",
    "app = Flask(__name__)\n",
    "\n",
    "# Spring Controller와 동일한 역할 수행\n",
    "@app.route(\"/\")\n",
    "def hello():\n",
    "    return \"<h1>Hello Python</h1>\"\n",
    "\n",
    "if __name__ == \"__main__\":\n",
    "    app.run()"
   ]
  },
  {
   "cell_type": "code",
   "execution_count": null,
   "id": "e8dc5c71",
   "metadata": {},
   "outputs": [],
   "source": [
    "# 1) https://developers.kakao.com/ 로그인\n",
    "# 2) 내 애플리케이션 -> 이전에 만들었던 사항 클릭\n",
    "# 3) 동의항목: 닉네임 - 필수, 카카오계정 - 선택, 카톡 메시지 - 선택\n",
    "# 4) 카카오 로그인 - 활성화 설정 ON\n",
    "# 5) Redirect URI에 https://localhost.com 설정\n",
    "# 6) 플랫폼 - Web 도메인으로 https://www.naver.com과 https://localhost.com 설정\n",
    "# 7) Kakao API 문서 위치 - https://developers.kakao.com/docs/latest/ko/kakaologin/rest-api\n",
    "# 8) 주어진 정보 확인\n",
    "#    GET /oauth/authorize?client_id={REST_API_KEY}&redirect_uri={REDIRECT_URI}&response_type=code HTTP/1.1\n",
    "#    Host: kauth.kakao.com\n",
    "#    요약 정보에 있는 REST API 키가 REST_API_KEY 위치에 배치되면 됨\n",
    "#    REDIRECT_URI의 경우 앞서 등록했던 https://localhost.com\n",
    "# 9) 해당 URL로 요청을 하면 Kakao API를 활용할 수 있는 토큰을 발급받을 수 있고\n",
    "#    주어진 시간내에 처리하지 않으면 토큰이 만료되므로 먼저 코드를 작성하도록 한다."
   ]
  },
  {
   "cell_type": "code",
   "execution_count": 1,
   "id": "21cd2861",
   "metadata": {},
   "outputs": [
    {
     "name": "stdout",
     "output_type": "stream",
     "text": [
      "{'access_token': 'pDUPnI3ZGnAnk4Doo4qO9AxgHGl0KKM6CBGUaQorDKcAAAF9ViJeiw', 'token_type': 'bearer', 'refresh_token': 'J6PxKLtlMpUJd_mKdVDaJFIatF6ii-QAQv5nLworDKcAAAF9ViJeiQ', 'expires_in': 21599, 'scope': 'account_email talk_message profile_nickname friends', 'refresh_token_expires_in': 5183999}\n"
     ]
    }
   ],
   "source": [
    "import requests\n",
    "\n",
    "url = \"https://kauth.kakao.com/oauth/token\"\n",
    "\n",
    "\n",
    "data = {\n",
    "    \"grant_type\" : \"authorization_code\",\n",
    "    \"client_id\" : \"b3768d46a42cd7d9ca7867c1dc8750c0\",\n",
    "    \"redirect_uri\" : \"https://localhost.com\",\n",
    "    \"code\" : \"B5nWNKWiFb-wRE7peSHE6cX8SWkX_Yzv2wPwcH3YMEpQByhGO7nYwlqzE45Ne6iaLjaa_Qo9dJgAAAF9ViA9fw\"\n",
    "}\n",
    "\n",
    "response = requests.post(url, data=data)\n",
    "\n",
    "if response.status_code != 200:\n",
    "    print(\"Error!\")\n",
    "else:\n",
    "    tokens = response.json()\n",
    "    print(tokens)"
   ]
  },
  {
   "cell_type": "code",
   "execution_count": 4,
   "id": "2a1d1987",
   "metadata": {},
   "outputs": [],
   "source": [
    "import json\n",
    "import requests\n",
    "import datetime\n",
    "import os\n",
    "\n",
    "# Kakao Token 저장 파일\n",
    "KAKAO_TOKEN_SAVED_FILE = \"res/kakao_login/kakao_token.json\"\n",
    "\n",
    "# 저장\n",
    "def save_tokens(filename, tokens):\n",
    "    with open(filename, \"w\") as fp:\n",
    "        json.dump(tokens, fp)\n",
    "        \n",
    "# 읽기\n",
    "def load_tokens(filename):\n",
    "    with open(filename) as fp:\n",
    "        tokens = json.load(fp)\n",
    "        \n",
    "    return tokens\n",
    "\n",
    "# Access Token 갱신을 위한 Refresh\n",
    "def update_tokens(app_key, filename):\n",
    "    tokens = load_tokens(filename)\n",
    "    \n",
    "    url = \"https://kauth.kakao.com/oauth/token\"\n",
    "    \n",
    "    data = {\n",
    "        \"grant_type\" : \"refresh_token\",\n",
    "        \"client_id\" : app_key,\n",
    "        \"refresh_token\" : tokens['refresh_token']\n",
    "    }\n",
    "    \n",
    "    response = requests.post(url, data=data)\n",
    "    \n",
    "    if response.status_code != 200:\n",
    "        print(\"Error!\")\n",
    "        tokens = None\n",
    "    else:\n",
    "        print(response.json())\n",
    "        \n",
    "        # 기존 내용 백업\n",
    "        now = datetime.datetime.now().strftime(\"%Y%m%d_%H%M%S\")\n",
    "        backup_filename = filename + \".\" + now\n",
    "        os.rename(filename, backup_filename)\n",
    "        \n",
    "        # 새롭게 업데이트된 토큰 저장\n",
    "        tokens['access_token'] = response.json()['access_token']\n",
    "        save_tokens(filename, tokens)\n",
    "        \n",
    "    return tokens\n",
    "\n",
    "# token 저장\n",
    "save_tokens(KAKAO_TOKEN_SAVED_FILE, tokens)"
   ]
  },
  {
   "cell_type": "code",
   "execution_count": null,
   "id": "0ba19790",
   "metadata": {},
   "outputs": [],
   "source": []
  }
 ],
 "metadata": {
  "kernelspec": {
   "display_name": "Python 3",
   "language": "python",
   "name": "python3"
  },
  "language_info": {
   "codemirror_mode": {
    "name": "ipython",
    "version": 3
   },
   "file_extension": ".py",
   "mimetype": "text/x-python",
   "name": "python",
   "nbconvert_exporter": "python",
   "pygments_lexer": "ipython3",
   "version": "3.8.8"
  }
 },
 "nbformat": 4,
 "nbformat_minor": 5
}
