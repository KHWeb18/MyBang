{
 "cells": [
  {
   "cell_type": "markdown",
   "id": "d9d996a4",
   "metadata": {},
   "source": [
    "스프링 run 하고 테이블 생성 후 최초 1회만 해주시면 됩니다~~"
   ]
  },
  {
   "cell_type": "code",
   "execution_count": 1,
   "id": "77646443",
   "metadata": {},
   "outputs": [],
   "source": [
    "import pymysql\n",
    "import csv\n",
    "import pandas as pd"
   ]
  },
  {
   "cell_type": "code",
   "execution_count": 2,
   "id": "c5c8b97c",
   "metadata": {},
   "outputs": [],
   "source": [
    "conn = pymysql.connect(host='localhost', user='khweb', password='khWeb@123', db='mybang_db', charset='utf8mb4')\n",
    "curs = conn.cursor()"
   ]
  },
  {
   "cell_type": "code",
   "execution_count": 3,
   "id": "9af2d86f",
   "metadata": {},
   "outputs": [],
   "source": [
    "sql = \"\"\"insert into station (code, line, name, lat, lng) values (%s,%s,%s,%s,%s)\"\"\"\n",
    "\n",
    "f = open('station.csv', 'r', encoding='utf-8')\n",
    "rd = csv.reader(f)\n",
    "\n",
    "next(rd)\n",
    "\n",
    "for line in rd:\n",
    "    curs.execute(sql, (line[3], line[1], line[2], line[4], line[5]))\n",
    "    \n",
    "conn.commit()\n",
    "conn.close()\n",
    "f.close()"
   ]
  },
  {
   "cell_type": "code",
   "execution_count": null,
   "id": "f4796565",
   "metadata": {},
   "outputs": [],
   "source": []
  }
 ],
 "metadata": {
  "kernelspec": {
   "display_name": "Python 3",
   "language": "python",
   "name": "python3"
  },
  "language_info": {
   "codemirror_mode": {
    "name": "ipython",
    "version": 3
   },
   "file_extension": ".py",
   "mimetype": "text/x-python",
   "name": "python",
   "nbconvert_exporter": "python",
   "pygments_lexer": "ipython3",
   "version": "3.8.8"
  }
 },
 "nbformat": 4,
 "nbformat_minor": 5
}
