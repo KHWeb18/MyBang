{
 "cells": [
  {
   "cell_type": "markdown",
   "id": "a04de39f",
   "metadata": {},
   "source": [
    "스프링 run 하고 테이블 생성 후 최초 1회만 해주시면 됩니다~~"
   ]
  },
  {
   "cell_type": "code",
   "execution_count": 1,
   "id": "5e9cfe4b",
   "metadata": {},
   "outputs": [],
   "source": [
    "import pymysql\n",
    "import csv\n",
    "import pandas as pd"
   ]
  },
  {
   "cell_type": "code",
   "execution_count": 2,
   "id": "53d2deee",
   "metadata": {},
   "outputs": [],
   "source": [
    "conn = pymysql.connect(host='localhost', user='khweb', password='khWeb@123', db='mybang_db', charset='utf8mb4')\n",
    "curs = conn.cursor()"
   ]
  },
  {
   "cell_type": "code",
   "execution_count": 3,
   "id": "6a8ac9a0",
   "metadata": {},
   "outputs": [],
   "source": [
    "sql = \"\"\"insert into seoul_gu (city, gu, lat, lng) values (%s,%s,%s,%s)\"\"\"\n",
    "\n",
    "f = open('seoul_gu_coords.csv', 'r')\n",
    "rd = csv.reader(f)\n",
    "\n",
    "next(rd)\n",
    "\n",
    "for line in rd:\n",
    "    curs.execute(sql, (line[1], line[2], line[4], line[3]))\n",
    "    \n",
    "conn.commit()\n",
    "f.close()"
   ]
  },
  {
   "cell_type": "code",
   "execution_count": 4,
   "id": "48ba40b6",
   "metadata": {},
   "outputs": [],
   "source": [
    "sql = \"\"\"insert into seoul_dong (city, gu, dong, lat, lng) values (%s,%s,%s,%s,%s)\"\"\"\n",
    "\n",
    "f = open('seoul_dong_coords.csv', 'r')\n",
    "rd = csv.reader(f)\n",
    "\n",
    "next(rd)\n",
    "\n",
    "for line in rd:\n",
    "    curs.execute(sql, (line[1], line[2], line[3], line[5], line[4]))\n",
    "    \n",
    "conn.commit()\n",
    "conn.close()\n",
    "f.close()"
   ]
  },
  {
   "cell_type": "code",
   "execution_count": null,
   "id": "b8a643d6",
   "metadata": {},
   "outputs": [],
   "source": []
  }
 ],
 "metadata": {
  "kernelspec": {
   "display_name": "Python 3",
   "language": "python",
   "name": "python3"
  },
  "language_info": {
   "codemirror_mode": {
    "name": "ipython",
    "version": 3
   },
   "file_extension": ".py",
   "mimetype": "text/x-python",
   "name": "python",
   "nbconvert_exporter": "python",
   "pygments_lexer": "ipython3",
   "version": "3.8.8"
  }
 },
 "nbformat": 4,
 "nbformat_minor": 5
}
