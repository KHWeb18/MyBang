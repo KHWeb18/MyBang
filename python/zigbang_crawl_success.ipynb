{
 "cells": [
  {
   "cell_type": "code",
   "execution_count": 1,
   "id": "8073aa47",
   "metadata": {},
   "outputs": [],
   "source": [
    "import requests\n",
    "import copy\n",
    "import csv\n",
    "import time\n",
    "import json\n",
    "import uuid\n",
    "import pprint\n",
    "import asyncio\n",
    "from typing import List\n",
    "from urllib import parse\n",
    "from urllib.parse import quote\n",
    "import inspect\n",
    "import datetime"
   ]
  },
  {
   "cell_type": "code",
   "execution_count": 2,
   "id": "1741aad2",
   "metadata": {},
   "outputs": [],
   "source": [
    "class magic_fstring_function:\n",
    "    def __init__(self, payload):\n",
    "        self.payload = payload\n",
    "        self.cached = None\n",
    "    def __str__(self):\n",
    "        if self.cached is None:\n",
    "            vars = inspect.currentframe().f_back.f_globals.copy()\n",
    "            vars.update(inspect.currentframe().f_back.f_locals)\n",
    "            self.cached = self.payload.format(**vars)\n",
    "        return self.cached"
   ]
  },
  {
   "cell_type": "code",
   "execution_count": 3,
   "id": "e11a2365",
   "metadata": {},
   "outputs": [],
   "source": [
    "uuid = str(uuid.uuid4())\n",
    "item_list_api = \"https://apis.zigbang.com/v2/items\"\n",
    "describe_list_api = item_list_api + '/list'\n",
    "item_describe_api = \"https://apis.zigbang.com/v3/items?item_ids={item_id}&detail=true\"\n",
    "item_view_url = \"https://zigbang.com/home/oneroom/items/{item_id}\"\n",
    "\n",
    "referer = \"https://zigbang.com/home/oneroom/subways/414/items\"\n",
    "        \n",
    "headers = {\n",
    "    'Host':'apis.zigbang.com',\n",
    "    'Connection':'keep-alive',\n",
    "    'Pragma':'no-cache',\n",
    "    'Cache-Control':'no-cache',\n",
    "    'Accept':'application/json, text/plain, */*',\n",
    "    'Origin':'https://zigbang.com',\n",
    "    'User-Agent':'Mozilla/5.0 (Linux; Android 6.0; Nexus 5 Build/MRA58N) AppleWebKit/537.36 (KHTML, like Gecko) Chrome/78.0.3904.108 Mobile Safari/537.36',\n",
    "    'DNT':'1',\n",
    "    'Sec-Fetch-Site':'same-site',\n",
    "    'Sec-Fetch-Mode':'cors',\n",
    "    'Referer':'https://zigbang.com/home/oneroom/subways/414/items',\n",
    "    'Accept-Encoding':'gzip, deflate, br',\n",
    "    'Accept-Language':'ko-KR,ko;q=0.9,en-US;q=0.8,en;q=0.7',\n",
    "}\n",
    "\n",
    "items = {}\n",
    "sad_words = [ '대출x', '대출불가', '전세 안됩']"
   ]
  },
  {
   "cell_type": "code",
   "execution_count": 4,
   "id": "b27fbf9e",
   "metadata": {},
   "outputs": [],
   "source": [
    "def export_items(items):\n",
    "    fieldnames = [\n",
    "        'id',\n",
    "        'title',\n",
    "        'description',\n",
    "        'deposit',\n",
    "        'agent_name',\n",
    "        'agent_mobile',\n",
    "        '_floor',\n",
    "        'address1',\n",
    "        'address2',\n",
    "        'address3',\n",
    "        'size',\n",
    "        'size_m2',\n",
    "        'status',\n",
    "        'room_type',\n",
    "        'manage_cost_inc',\n",
    "        'updated_at2',\n",
    "        'url',\n",
    "    ]\n",
    "    \n",
    "    filtered_item = [] \n",
    "    maximum_updated = datetime.timedelta(days=4)\n",
    "    \n",
    "    wish = '대출'\n",
    "    for item in items:\n",
    "        item = item['item']\n",
    "        if wish in item['title'] or wish in item['description']:\n",
    "            plz_flag = True\n",
    "            for word in sad_words:\n",
    "                if word in item['description']:\n",
    "                    plz_flag = False\n",
    "                    break\n",
    "            if not plz_flag:\n",
    "                continue\n",
    "            item_updated = datetime.datetime.strptime(item['updated_at2'], '%Y-%m-%d')\n",
    "            if maximum_updated < datetime.datetime.now() - item_updated:\n",
    "                continue\n",
    "            item_id = item['id']\n",
    "            url = magic_fstring_function(item_view_url)\n",
    "            item['url'] = str(url)\n",
    "            new_item = {}\n",
    "            for fieldname in fieldnames:\n",
    "                new_item[fieldname] = item[fieldname]\n",
    "            filtered_item.append(new_item)\n",
    "    return filtered_item"
   ]
  },
  {
   "cell_type": "code",
   "execution_count": 5,
   "id": "8c5f8a27",
   "metadata": {},
   "outputs": [],
   "source": [
    "def describe_room_list(items):\n",
    "    item_ids = list(items.keys())\n",
    "    max_idx = int(len(item_ids) / 30)\n",
    "    if len(item_ids) % 30 != 0:\n",
    "        max_idx += 1\n",
    "    \n",
    "    items = []\n",
    "    headers['Accept'] = 'application/json'\n",
    "    headers['Referer'] = 'https://zigbang.com/home/oneroom/subways/37/items'\n",
    "    \n",
    "    for i in range(max_idx):\n",
    "        start_idx = i * 30\n",
    "        end_idx = min((i+1)*30, len(item_ids))\n",
    "        sub_ids = item_ids[start_idx:end_idx-1]\n",
    "        item_id = str(sub_ids).replace(' ', '').replace('\\'','')\n",
    "        api = magic_fstring_function(item_describe_api)\n",
    "        g = api\n",
    "        resp = requests.get(\n",
    "            url=str(api),\n",
    "            headers=headers,\n",
    "            timeout=5,\n",
    "        )\n",
    "        resp.encoding = 'utf-8'\n",
    "        result = resp.json()\n",
    "        resp.close()\n",
    "        items += result['items']\n",
    "        time.sleep(1)\n",
    "        \n",
    "    return items"
   ]
  },
  {
   "cell_type": "code",
   "execution_count": 6,
   "id": "ad58e502",
   "metadata": {},
   "outputs": [],
   "source": [
    "def get_room_list(\n",
    "    items,\n",
    "    deposit_gteq: int = 0,\n",
    "    deposit_lteq: int = 8000,\n",
    "    domain: str = \"zigbang\",\n",
    "    floor_in: str = \"ground\",\n",
    "    geohash: str = \"wydjr\",\n",
    "    rent_gteq: int = 0,\n",
    "    sales_type_in: str = \"전세\",\n",
    "    service_type_eq: str = \"원룸\",\n",
    "):\n",
    "    resp = requests.get(\n",
    "        url=item_list_api,\n",
    "        params={\n",
    "            \"deposit_gteq\": deposit_gteq,\n",
    "            \"deposit_lteq\": deposit_lteq,\n",
    "            \"domain\": domain,\n",
    "            \"floor_in\": floor_in,\n",
    "            \"geohash\": geohash,\n",
    "            \"rent_gteq\": rent_gteq,\n",
    "            \"sales_type_in\": sales_type_in,\n",
    "            \"service_type_eq\": service_type_eq,\n",
    "        },\n",
    "        headers=headers,\n",
    "        timeout=5,\n",
    "    )\n",
    "    new_items = json.loads(resp.content.decode('utf-8'))\n",
    "    resp.close()\n",
    "\n",
    "    for section in new_items['sections']:\n",
    "        for item in section['item_ids']:\n",
    "            items[str(item)] = {}\n",
    "\n",
    "    return items"
   ]
  },
  {
   "cell_type": "code",
   "execution_count": 7,
   "id": "e6943499",
   "metadata": {},
   "outputs": [],
   "source": [
    "items = {}\n"
   ]
  },
  {
   "cell_type": "code",
   "execution_count": 8,
   "id": "db24298c",
   "metadata": {},
   "outputs": [],
   "source": [
    "geos_sinrim = [\n",
    "    'wydm0',\n",
    "    'wydm1',\n",
    "    'wydm2',\n",
    "   'wydm3',\n",
    "] \n",
    "\n",
    "for geo in geos_sinrim:\n",
    "    items = get_room_list(items, geohash=geo)\n",
    "    time.sleep(1)"
   ]
  },
  {
   "cell_type": "code",
   "execution_count": 10,
   "id": "e12d8dbc",
   "metadata": {},
   "outputs": [
    {
     "data": {
      "text/plain": [
       "191"
      ]
     },
     "execution_count": 10,
     "metadata": {},
     "output_type": "execute_result"
    }
   ],
   "source": [
    "len(items)"
   ]
  },
  {
   "cell_type": "code",
   "execution_count": 11,
   "id": "32024a34",
   "metadata": {},
   "outputs": [],
   "source": [
    "result = describe_room_list(items)"
   ]
  },
  {
   "cell_type": "code",
   "execution_count": 12,
   "id": "cfb7f7d6",
   "metadata": {},
   "outputs": [
    {
     "data": {
      "text/plain": [
       "184"
      ]
     },
     "execution_count": 12,
     "metadata": {},
     "output_type": "execute_result"
    }
   ],
   "source": [
    "len(result)"
   ]
  },
  {
   "cell_type": "code",
   "execution_count": 13,
   "id": "e30b473b",
   "metadata": {},
   "outputs": [
    {
     "name": "stdout",
     "output_type": "stream",
     "text": [
      "{ '_floor': '2층',\n",
      "  'address1': '서울시 관악구 신림동',\n",
      "  'address2': '90-82',\n",
      "  'address3': None,\n",
      "  'agent_address1': '서울특별시 관악구 봉천로 391, 1층 101-1호(봉천동, 두산아파트 상가1동)',\n",
      "  'agent_comment': '',\n",
      "  'agent_email': 'zeremien@naver.com',\n",
      "  'agent_lat': 37.4834714149035,\n",
      "  'agent_lng': 126.943250339993,\n",
      "  'agent_local1': '서울시',\n",
      "  'agent_local2': '관악구',\n",
      "  'agent_mobile': '010-3894-9420',\n",
      "  'agent_name': '다와부동산공인중개사사무소(전미라)',\n",
      "  'agent_no': 67990,\n",
      "  'agent_phone': '02-2135-2474',\n",
      "  'bjd_code': '',\n",
      "  'bonbun_code': '90',\n",
      "  'bubun_code': '82',\n",
      "  'building': None,\n",
      "  'building_type': '다세대건물',\n",
      "  'contract': '서울특별시',\n",
      "  'deposit': 4000,\n",
      "  'description': '💙시진 보시면 아시겠지만 채광,통풍 아주 굿~\\r\\n'\n",
      "                 '\\r\\n'\n",
      "                 '💙지상층에 이런 가격이 ~너무 깔끔한 원룸이라서 보시면\\r\\n'\n",
      "                 '       반하실꺼에요~\\r\\n'\n",
      "                 '💙관리비 올포함~\\r\\n'\n",
      "                 '\\r\\n'\n",
      "                 '💙직장인,대학생,학원생분들께 추천 드립니다~\\r\\n'\n",
      "                 '     (워낙 조용한 동네라 만족 하실꺼에요~)\\r\\n'\n",
      "                 '💙나가시면(편의점,버스정류장,맛집,시장,쇼핑몰,세탁소,까페,병원,약국등~)\\r\\n'\n",
      "                 '\\r\\n'\n",
      "                 '💙여성분들 안심 귀갓길~\\r\\n'\n",
      "                 '\\r\\n'\n",
      "                 '💙풀옵션이라 몸만 들어오시면 되는원룸~\\r\\n'\n",
      "                 '\\r\\n'\n",
      "                 '\\n'\n",
      "                 '21.10.15에 직방에 등록된 매물입니다.',\n",
      "  'description_og': '&#128153;시진 보시면 아시겠지만 채광,통풍 아주 굿~\\r\\n'\n",
      "                    '\\r\\n'\n",
      "                    '&#128153;지상층에 이런 가격이 ~너무 깔끔한 원룸이라서 보시면\\r\\n'\n",
      "                    '       반하실꺼에요~\\r\\n'\n",
      "                    '&#128153;관리비 올포함~\\r\\n'\n",
      "                    '\\r\\n'\n",
      "                    '&#128153;직장인,대학생,학원생분들께 추천 드립니다~\\r\\n'\n",
      "                    '     (워낙 조용한 동네라 만족 하실꺼에요~)\\r\\n'\n",
      "                    '&#128153;나가시면(편의점,버스정류장,맛집,시장,쇼핑몰,세탁소,까페,병원,약국등~)\\r\\n'\n",
      "                    '\\r\\n'\n",
      "                    '&#128153;여성분들 안심 귀갓길~\\r\\n'\n",
      "                    '\\r\\n'\n",
      "                    '&#128153;풀옵션이라 몸만 들어오시면 되는원룸~\\r\\n'\n",
      "                    '\\r\\n'\n",
      "                    '\\n'\n",
      "                    '21.10.15에 직방에 등록된 매물입니다.',\n",
      "  'elevator': '없음',\n",
      "  'floor': '2층',\n",
      "  'floor_all': '5층',\n",
      "  'id': 29092673,\n",
      "  'images': [ { 'count': 1,\n",
      "                'index': 0,\n",
      "                'url': 'https://ic.zigbang.com/ic/items/29092673/1.jpg'},\n",
      "              { 'count': 2,\n",
      "                'index': 1,\n",
      "                'url': 'https://ic.zigbang.com/ic/items/29092673/2.jpg'},\n",
      "              { 'count': 3,\n",
      "                'index': 2,\n",
      "                'url': 'https://ic.zigbang.com/ic/items/29092673/3.jpg'},\n",
      "              { 'count': 4,\n",
      "                'index': 3,\n",
      "                'url': 'https://ic.zigbang.com/ic/items/29092673/4.jpg'},\n",
      "              { 'count': 5,\n",
      "                'index': 4,\n",
      "                'url': 'https://ic.zigbang.com/ic/items/29092673/5.jpg'},\n",
      "              { 'count': 6,\n",
      "                'index': 5,\n",
      "                'url': 'https://ic.zigbang.com/ic/items/29092673/6.jpg'},\n",
      "              { 'count': 7,\n",
      "                'index': 6,\n",
      "                'url': 'https://ic.zigbang.com/ic/items/29092673/7.jpg'},\n",
      "              { 'count': 8,\n",
      "                'index': 7,\n",
      "                'url': 'https://ic.zigbang.com/ic/items/29092673/8.jpg'},\n",
      "              { 'count': 9,\n",
      "                'index': 8,\n",
      "                'url': 'https://ic.zigbang.com/ic/items/29092673/9.jpg'},\n",
      "              { 'count': 10,\n",
      "                'index': 9,\n",
      "                'url': 'https://ic.zigbang.com/ic/items/29092673/10.jpg'}],\n",
      "  'images_thumbnail': '/items/29092673/1.jpg',\n",
      "  'is_deposit_only': True,\n",
      "  'is_direct': False,\n",
      "  'is_homepage': True,\n",
      "  'is_owner': False,\n",
      "  'is_premium': True,\n",
      "  'is_premium2': True,\n",
      "  'is_realestate': True,\n",
      "  'is_room': False,\n",
      "  'is_status_close': False,\n",
      "  'is_status_open': True,\n",
      "  'is_type_room': False,\n",
      "  'is_zzim': False,\n",
      "  'loan_text': '확인필요',\n",
      "  'local1': '서울시',\n",
      "  'local2': '관악구',\n",
      "  'local3': '신림동',\n",
      "  'manage_cost': '12만원',\n",
      "  'manage_cost_inc': '전기세,가스,수도,인터넷,TV',\n",
      "  'movein_date': '즉시 입주',\n",
      "  'near_subways': '신림역(2호선), 봉천역(2호선)',\n",
      "  'options': '에어컨,냉장고,세탁기,인덕션,전자레인지,침대,옷장,신발장,싱크대',\n",
      "  'original_user_phone': '010-3299-7303',\n",
      "  'parking': '불가능',\n",
      "  'pets_text': '확인필요',\n",
      "  'pnu': '1162010200100900082',\n",
      "  'premium_items': [],\n",
      "  'profile_url': 'http://ic.zigbang.com/vp/profile/12789281/826562501f4640f3f5a33fe4304dbc72d62751ec.jpg',\n",
      "  'random_location': '37.48019412055087,126.93212309553378',\n",
      "  'read_updated_at': '2001-01-01',\n",
      "  'rent': 0,\n",
      "  'room_direction_text': '남향',\n",
      "  'room_gubun_code': '01',\n",
      "  'room_type': '오픈형 원룸',\n",
      "  'room_type_code': '01',\n",
      "  'sales_type': '전세',\n",
      "  'secret_memo': None,\n",
      "  'service_type': '원룸',\n",
      "  'size': 5.8,\n",
      "  'size_contract': 0,\n",
      "  'size_m2': 19.17,\n",
      "  'size_m2_contract': '-',\n",
      "  'status': '광고중',\n",
      "  'title': '💛신림역5분거리에 위치한 최고의 전세원룸💛',\n",
      "  'updated_at': '5일 전',\n",
      "  'updated_at2': '2021-10-15',\n",
      "  'user_email': 'zeremien@naver.com',\n",
      "  'user_has_no_penalty': True,\n",
      "  'user_has_penalty': False,\n",
      "  'user_intro': '♥안녕하세요~ 계약에서 입주까지 진심을 다하는 다와부동산 입니다.\\r\\n'\n",
      "                '    준비와 기회가 만나면 기적이 이루어 진다는 말이 있죠~ 저희 다와 부동산과 함께하면\\r\\n'\n",
      "                '    좋은 일만 가득하길 바라겠습니다~\\r\\n'\n",
      "                '    \\r\\n'\n",
      "                '♥대중교통 이용하시는분들은 저희가 모시러 나갑니다~언제든 연락주세요~\\r\\n'\n",
      "                '    \\r\\n'\n",
      "                '♥등기 사항증명서 및 건출물 대장등 공부상 확실한 확인으로 권리분석 해드리겠습니다~\\r\\n'\n",
      "                '\\r\\n'\n",
      "                '♥광고 외에 매물도 많으니 걱정마시고 어서 어서 전화주세요~\\r\\n'\n",
      "                '\\r\\n'\n",
      "                '♥언제든 문의 주시면 친절,성실 상담 도와 드리겠습니다~\\r\\n'\n",
      "                '\\r\\n'\n",
      "                '♥책임과 진정성 있는 중개를 약속 드립니다~^^\\r\\n'\n",
      "                '\\r\\n',\n",
      "  'user_mobile': '0504-3128-0177',\n",
      "  'user_name': '중개보조원 이선주',\n",
      "  'user_no': 12789281,\n",
      "  'user_phone': '0504-3128-0177',\n",
      "  'view_count': '171'}\n"
     ]
    }
   ],
   "source": [
    "pp = pprint.PrettyPrinter(indent=2)\n",
    "pp.pprint(result[0]['item'])"
   ]
  },
  {
   "cell_type": "code",
   "execution_count": 14,
   "id": "6f630c36",
   "metadata": {},
   "outputs": [],
   "source": [
    "filtered_result = export_items(result)"
   ]
  },
  {
   "cell_type": "code",
   "execution_count": 15,
   "id": "861193c0",
   "metadata": {},
   "outputs": [
    {
     "data": {
      "text/plain": [
       "23"
      ]
     },
     "execution_count": 15,
     "metadata": {},
     "output_type": "execute_result"
    }
   ],
   "source": [
    "len(filtered_result)\n"
   ]
  },
  {
   "cell_type": "code",
   "execution_count": 16,
   "id": "52260384",
   "metadata": {},
   "outputs": [],
   "source": [
    "def get_full_address(item):\n",
    "    addr = item['address1']\n",
    "    addr += ' '\n",
    "    addr += item['address2'] or ''\n",
    "    addr += ' '\n",
    "    addr += item['address3'] or ''\n",
    "    return addr"
   ]
  },
  {
   "cell_type": "code",
   "execution_count": 17,
   "id": "66559e47",
   "metadata": {},
   "outputs": [],
   "source": [
    "geo_based_dict = {}"
   ]
  },
  {
   "cell_type": "code",
   "execution_count": 18,
   "id": "969395bb",
   "metadata": {},
   "outputs": [],
   "source": [
    "\n",
    "for item in filtered_result:\n",
    "    full_addr = get_full_address(item)\n",
    "    item['address'] = full_addr\n",
    "    if full_addr not in geo_based_dict:\n",
    "        geo_based_dict[full_addr] = []\n",
    "    geo_based_dict[full_addr].append(item)"
   ]
  },
  {
   "cell_type": "code",
   "execution_count": 19,
   "id": "0af33bce",
   "metadata": {},
   "outputs": [
    {
     "name": "stdout",
     "output_type": "stream",
     "text": [
      "{ '_floor': '3층',\n",
      "  'address': '서울시 관악구 신림동 87-61 ',\n",
      "  'address1': '서울시 관악구 신림동',\n",
      "  'address2': '87-61',\n",
      "  'address3': None,\n",
      "  'agent_mobile': '010-8980-3144',\n",
      "  'agent_name': '119부동산공인중개사사무소(유미선)',\n",
      "  'deposit': 5000,\n",
      "  'description': '💞 매물 정보\\n'\n",
      "                 '  \\n'\n",
      "                 '신림역 전세대출 가능한 오픈형 원룸 \\n'\n",
      "                 '대로변 위치라 늦게 퇴근 하시는 분 \\n'\n",
      "                 '치안 걱정 없이 안심귀가로 걱정 NO\\n'\n",
      "                 '인근 풍부한 먹거리로 간단하게 이용 가능\\n'\n",
      "                 '다양한 편의시설 마트 , 병원, 약국, 은행, \\n'\n",
      "                 '편의점, 세탁소, 편하게 이용!!\\n'\n",
      "                 '인근 산책 할 수 있는 공원 있어서\\n'\n",
      "                 '산책 하고 내몸 지키기!!\\n'\n",
      "                 '\\n'\n",
      "                 '💞 방 체크 \\n'\n",
      "                 '\\n'\n",
      "                 '👉교통\\n'\n",
      "                 '     버스정류장 도보 3분 거리,  신림역 도보 5분 거리 \\n'\n",
      "                 '\\n'\n",
      "                 '👉 기본 옵션\\n'\n",
      "                 '     세탁기, 에어컨, 인덕션, 냉장고, 전자도어락\\n'\n",
      "                 '     침대는 세입자가 꾸민 거라 비 옵션 입니다. \\n'\n",
      "                 '\\n'\n",
      "                 '👉 관리비\\n'\n",
      "                 '    관리비10만원(인터넷, 케이블,가스,수도)포함 선불\\n'\n",
      "                 '    전기.별도\\n'\n",
      "                 '     \\n'\n",
      "                 ' 👉 방범\\n'\n",
      "                 '     실내 ＇외 CCTV, 도어락 안정장치 설치 완료보안 \\n'\n",
      "                 '     상태 : 현관부터 내방 문까지 25시간 full 가동 중\\n'\n",
      "                 '     치안 걱정 노~안전한 주거공간 보장\\n'\n",
      "                 '\\n'\n",
      "                 '21.10.19에 직방에 등록된 매물입니다.',\n",
      "  'id': 29128969,\n",
      "  'manage_cost_inc': '가스,수도,인터넷,TV',\n",
      "  'room_type': '오픈형 원룸',\n",
      "  'size': 6,\n",
      "  'size_m2': 19.83,\n",
      "  'status': '광고중',\n",
      "  'title': '💞신림역 전세대출 가능💞',\n",
      "  'updated_at2': '2021-10-19',\n",
      "  'url': 'https://zigbang.com/home/oneroom/items/29128969'}\n"
     ]
    }
   ],
   "source": [
    "first_key = next(iter(geo_based_dict))\n",
    "pp.pprint(geo_based_dict[first_key][0])"
   ]
  },
  {
   "cell_type": "code",
   "execution_count": 20,
   "id": "47954359",
   "metadata": {},
   "outputs": [],
   "source": [
    "double_list = []\n",
    "for addr in geo_based_dict.keys():\n",
    "    double_list.append(geo_based_dict[addr][0])\n",
    "double_list.sort(key=lambda x: x['size'], reverse=True)"
   ]
  },
  {
   "cell_type": "code",
   "execution_count": 21,
   "id": "67414b13",
   "metadata": {
    "scrolled": true
   },
   "outputs": [],
   "source": [
    "with open('crawling_data.csv', 'w', newline='', encoding='utf-8') as csvfile:\n",
    "    fieldnames = [\n",
    "        'id',\n",
    "        'title',\n",
    "        'description',\n",
    "        'deposit',\n",
    "        'agent_name',\n",
    "        'agent_mobile',\n",
    "        '_floor',\n",
    "        'address',\n",
    "        'size',\n",
    "        'size_m2',\n",
    "        'status',\n",
    "        'room_type',\n",
    "        'manage_cost_inc',\n",
    "        'updated_at2',\n",
    "        'url',\n",
    "    ]\n",
    "    writer = csv.DictWriter(csvfile, extrasaction='ignore', fieldnames=fieldnames)\n",
    "    writer.writeheader()\n",
    "    for item in double_list:\n",
    "        writer.writerow(item)"
   ]
  },
  {
   "cell_type": "code",
   "execution_count": 24,
   "id": "97b19cb3",
   "metadata": {},
   "outputs": [
    {
     "data": {
      "text/plain": [
       "'\\ncreate table test4(\\n        no int not null auto_increment,\\n        id varchar(20) not null,\\n        deposit varchar(100),\\n        agent_name varchar(200),\\n        agent_mobile varchar(200),\\n        floor varchar(100),\\n        address varchar(100),\\n        size varchar(100),\\n        size_m2 varchar(100),\\n        status varchar(100),\\n        room_type varchar(100),\\n        manage_cost_inc varchar(100),\\n        url varchar(100),\\n        upddt varchar(50),\\n        primary key(no)\\n        );\\n\\n'"
      ]
     },
     "execution_count": 24,
     "metadata": {},
     "output_type": "execute_result"
    }
   ],
   "source": [
    "\"\"\"\n",
    "create table test4(\n",
    "        no int not null auto_increment,\n",
    "        id varchar(20) not null,\n",
    "        deposit varchar(100),\n",
    "        agent_name varchar(200),\n",
    "        agent_mobile varchar(200),\n",
    "        floor varchar(100),\n",
    "        address varchar(100),\n",
    "        size varchar(100),\n",
    "        size_m2 varchar(100),\n",
    "        status varchar(100),\n",
    "        room_type varchar(100),\n",
    "        manage_cost_inc varchar(100),\n",
    "        url varchar(100),\n",
    "        upddt varchar(50),\n",
    "        primary key(no)\n",
    "        );\n",
    "\n",
    "\"\"\""
   ]
  },
  {
   "cell_type": "code",
   "execution_count": 25,
   "id": "493d2e60",
   "metadata": {},
   "outputs": [
    {
     "ename": "ProgrammingError",
     "evalue": "(1146, \"Table 'python_db.test4' doesn't exist\")",
     "output_type": "error",
     "traceback": [
      "\u001b[1;31m---------------------------------------------------------------------------\u001b[0m",
      "\u001b[1;31mProgrammingError\u001b[0m                          Traceback (most recent call last)",
      "\u001b[1;32m<ipython-input-25-a535a6c79d07>\u001b[0m in \u001b[0;36m<module>\u001b[1;34m\u001b[0m\n\u001b[0;32m     10\u001b[0m \u001b[1;31m#title, description은 이모티콘 인식못하는 에러 -> 일단 제외\u001b[0m\u001b[1;33m\u001b[0m\u001b[1;33m\u001b[0m\u001b[1;33m\u001b[0m\u001b[0m\n\u001b[0;32m     11\u001b[0m \u001b[1;32mfor\u001b[0m \u001b[0mline\u001b[0m \u001b[1;32min\u001b[0m \u001b[0mrd\u001b[0m\u001b[1;33m:\u001b[0m\u001b[1;33m\u001b[0m\u001b[1;33m\u001b[0m\u001b[0m\n\u001b[1;32m---> 12\u001b[1;33m     \u001b[0mcurs\u001b[0m\u001b[1;33m.\u001b[0m\u001b[0mexecute\u001b[0m\u001b[1;33m(\u001b[0m\u001b[0msql\u001b[0m\u001b[1;33m,\u001b[0m \u001b[1;33m(\u001b[0m\u001b[0mline\u001b[0m\u001b[1;33m[\u001b[0m\u001b[1;36m0\u001b[0m\u001b[1;33m]\u001b[0m\u001b[1;33m,\u001b[0m \u001b[0mline\u001b[0m\u001b[1;33m[\u001b[0m\u001b[1;36m3\u001b[0m\u001b[1;33m]\u001b[0m\u001b[1;33m,\u001b[0m \u001b[0mline\u001b[0m\u001b[1;33m[\u001b[0m\u001b[1;36m4\u001b[0m\u001b[1;33m]\u001b[0m\u001b[1;33m,\u001b[0m \u001b[0mline\u001b[0m\u001b[1;33m[\u001b[0m\u001b[1;36m5\u001b[0m\u001b[1;33m]\u001b[0m\u001b[1;33m,\u001b[0m \u001b[0mline\u001b[0m\u001b[1;33m[\u001b[0m\u001b[1;36m6\u001b[0m\u001b[1;33m]\u001b[0m\u001b[1;33m,\u001b[0m \u001b[0mline\u001b[0m\u001b[1;33m[\u001b[0m\u001b[1;36m7\u001b[0m\u001b[1;33m]\u001b[0m\u001b[1;33m,\u001b[0m \u001b[0mline\u001b[0m\u001b[1;33m[\u001b[0m\u001b[1;36m8\u001b[0m\u001b[1;33m]\u001b[0m\u001b[1;33m,\u001b[0m \u001b[0mline\u001b[0m\u001b[1;33m[\u001b[0m\u001b[1;36m9\u001b[0m\u001b[1;33m]\u001b[0m\u001b[1;33m,\u001b[0m \u001b[0mline\u001b[0m\u001b[1;33m[\u001b[0m\u001b[1;36m10\u001b[0m\u001b[1;33m]\u001b[0m\u001b[1;33m,\u001b[0m \u001b[0mline\u001b[0m\u001b[1;33m[\u001b[0m\u001b[1;36m11\u001b[0m\u001b[1;33m]\u001b[0m\u001b[1;33m,\u001b[0m \u001b[0mline\u001b[0m\u001b[1;33m[\u001b[0m\u001b[1;36m12\u001b[0m\u001b[1;33m]\u001b[0m\u001b[1;33m,\u001b[0m \u001b[0mline\u001b[0m\u001b[1;33m[\u001b[0m\u001b[1;36m13\u001b[0m\u001b[1;33m]\u001b[0m\u001b[1;33m)\u001b[0m\u001b[1;33m)\u001b[0m\u001b[1;33m\u001b[0m\u001b[1;33m\u001b[0m\u001b[0m\n\u001b[0m\u001b[0;32m     13\u001b[0m \u001b[1;33m\u001b[0m\u001b[0m\n\u001b[0;32m     14\u001b[0m \u001b[0mconn\u001b[0m\u001b[1;33m.\u001b[0m\u001b[0mcommit\u001b[0m\u001b[1;33m(\u001b[0m\u001b[1;33m)\u001b[0m\u001b[1;33m\u001b[0m\u001b[1;33m\u001b[0m\u001b[0m\n",
      "\u001b[1;32mC:\\ProgramData\\anaconda3\\lib\\site-packages\\pymysql\\cursors.py\u001b[0m in \u001b[0;36mexecute\u001b[1;34m(self, query, args)\u001b[0m\n\u001b[0;32m    146\u001b[0m         \u001b[0mquery\u001b[0m \u001b[1;33m=\u001b[0m \u001b[0mself\u001b[0m\u001b[1;33m.\u001b[0m\u001b[0mmogrify\u001b[0m\u001b[1;33m(\u001b[0m\u001b[0mquery\u001b[0m\u001b[1;33m,\u001b[0m \u001b[0margs\u001b[0m\u001b[1;33m)\u001b[0m\u001b[1;33m\u001b[0m\u001b[1;33m\u001b[0m\u001b[0m\n\u001b[0;32m    147\u001b[0m \u001b[1;33m\u001b[0m\u001b[0m\n\u001b[1;32m--> 148\u001b[1;33m         \u001b[0mresult\u001b[0m \u001b[1;33m=\u001b[0m \u001b[0mself\u001b[0m\u001b[1;33m.\u001b[0m\u001b[0m_query\u001b[0m\u001b[1;33m(\u001b[0m\u001b[0mquery\u001b[0m\u001b[1;33m)\u001b[0m\u001b[1;33m\u001b[0m\u001b[1;33m\u001b[0m\u001b[0m\n\u001b[0m\u001b[0;32m    149\u001b[0m         \u001b[0mself\u001b[0m\u001b[1;33m.\u001b[0m\u001b[0m_executed\u001b[0m \u001b[1;33m=\u001b[0m \u001b[0mquery\u001b[0m\u001b[1;33m\u001b[0m\u001b[1;33m\u001b[0m\u001b[0m\n\u001b[0;32m    150\u001b[0m         \u001b[1;32mreturn\u001b[0m \u001b[0mresult\u001b[0m\u001b[1;33m\u001b[0m\u001b[1;33m\u001b[0m\u001b[0m\n",
      "\u001b[1;32mC:\\ProgramData\\anaconda3\\lib\\site-packages\\pymysql\\cursors.py\u001b[0m in \u001b[0;36m_query\u001b[1;34m(self, q)\u001b[0m\n\u001b[0;32m    308\u001b[0m         \u001b[0mself\u001b[0m\u001b[1;33m.\u001b[0m\u001b[0m_last_executed\u001b[0m \u001b[1;33m=\u001b[0m \u001b[0mq\u001b[0m\u001b[1;33m\u001b[0m\u001b[1;33m\u001b[0m\u001b[0m\n\u001b[0;32m    309\u001b[0m         \u001b[0mself\u001b[0m\u001b[1;33m.\u001b[0m\u001b[0m_clear_result\u001b[0m\u001b[1;33m(\u001b[0m\u001b[1;33m)\u001b[0m\u001b[1;33m\u001b[0m\u001b[1;33m\u001b[0m\u001b[0m\n\u001b[1;32m--> 310\u001b[1;33m         \u001b[0mconn\u001b[0m\u001b[1;33m.\u001b[0m\u001b[0mquery\u001b[0m\u001b[1;33m(\u001b[0m\u001b[0mq\u001b[0m\u001b[1;33m)\u001b[0m\u001b[1;33m\u001b[0m\u001b[1;33m\u001b[0m\u001b[0m\n\u001b[0m\u001b[0;32m    311\u001b[0m         \u001b[0mself\u001b[0m\u001b[1;33m.\u001b[0m\u001b[0m_do_get_result\u001b[0m\u001b[1;33m(\u001b[0m\u001b[1;33m)\u001b[0m\u001b[1;33m\u001b[0m\u001b[1;33m\u001b[0m\u001b[0m\n\u001b[0;32m    312\u001b[0m         \u001b[1;32mreturn\u001b[0m \u001b[0mself\u001b[0m\u001b[1;33m.\u001b[0m\u001b[0mrowcount\u001b[0m\u001b[1;33m\u001b[0m\u001b[1;33m\u001b[0m\u001b[0m\n",
      "\u001b[1;32mC:\\ProgramData\\anaconda3\\lib\\site-packages\\pymysql\\connections.py\u001b[0m in \u001b[0;36mquery\u001b[1;34m(self, sql, unbuffered)\u001b[0m\n\u001b[0;32m    546\u001b[0m             \u001b[0msql\u001b[0m \u001b[1;33m=\u001b[0m \u001b[0msql\u001b[0m\u001b[1;33m.\u001b[0m\u001b[0mencode\u001b[0m\u001b[1;33m(\u001b[0m\u001b[0mself\u001b[0m\u001b[1;33m.\u001b[0m\u001b[0mencoding\u001b[0m\u001b[1;33m,\u001b[0m \u001b[1;34m\"surrogateescape\"\u001b[0m\u001b[1;33m)\u001b[0m\u001b[1;33m\u001b[0m\u001b[1;33m\u001b[0m\u001b[0m\n\u001b[0;32m    547\u001b[0m         \u001b[0mself\u001b[0m\u001b[1;33m.\u001b[0m\u001b[0m_execute_command\u001b[0m\u001b[1;33m(\u001b[0m\u001b[0mCOMMAND\u001b[0m\u001b[1;33m.\u001b[0m\u001b[0mCOM_QUERY\u001b[0m\u001b[1;33m,\u001b[0m \u001b[0msql\u001b[0m\u001b[1;33m)\u001b[0m\u001b[1;33m\u001b[0m\u001b[1;33m\u001b[0m\u001b[0m\n\u001b[1;32m--> 548\u001b[1;33m         \u001b[0mself\u001b[0m\u001b[1;33m.\u001b[0m\u001b[0m_affected_rows\u001b[0m \u001b[1;33m=\u001b[0m \u001b[0mself\u001b[0m\u001b[1;33m.\u001b[0m\u001b[0m_read_query_result\u001b[0m\u001b[1;33m(\u001b[0m\u001b[0munbuffered\u001b[0m\u001b[1;33m=\u001b[0m\u001b[0munbuffered\u001b[0m\u001b[1;33m)\u001b[0m\u001b[1;33m\u001b[0m\u001b[1;33m\u001b[0m\u001b[0m\n\u001b[0m\u001b[0;32m    549\u001b[0m         \u001b[1;32mreturn\u001b[0m \u001b[0mself\u001b[0m\u001b[1;33m.\u001b[0m\u001b[0m_affected_rows\u001b[0m\u001b[1;33m\u001b[0m\u001b[1;33m\u001b[0m\u001b[0m\n\u001b[0;32m    550\u001b[0m \u001b[1;33m\u001b[0m\u001b[0m\n",
      "\u001b[1;32mC:\\ProgramData\\anaconda3\\lib\\site-packages\\pymysql\\connections.py\u001b[0m in \u001b[0;36m_read_query_result\u001b[1;34m(self, unbuffered)\u001b[0m\n\u001b[0;32m    773\u001b[0m         \u001b[1;32melse\u001b[0m\u001b[1;33m:\u001b[0m\u001b[1;33m\u001b[0m\u001b[1;33m\u001b[0m\u001b[0m\n\u001b[0;32m    774\u001b[0m             \u001b[0mresult\u001b[0m \u001b[1;33m=\u001b[0m \u001b[0mMySQLResult\u001b[0m\u001b[1;33m(\u001b[0m\u001b[0mself\u001b[0m\u001b[1;33m)\u001b[0m\u001b[1;33m\u001b[0m\u001b[1;33m\u001b[0m\u001b[0m\n\u001b[1;32m--> 775\u001b[1;33m             \u001b[0mresult\u001b[0m\u001b[1;33m.\u001b[0m\u001b[0mread\u001b[0m\u001b[1;33m(\u001b[0m\u001b[1;33m)\u001b[0m\u001b[1;33m\u001b[0m\u001b[1;33m\u001b[0m\u001b[0m\n\u001b[0m\u001b[0;32m    776\u001b[0m         \u001b[0mself\u001b[0m\u001b[1;33m.\u001b[0m\u001b[0m_result\u001b[0m \u001b[1;33m=\u001b[0m \u001b[0mresult\u001b[0m\u001b[1;33m\u001b[0m\u001b[1;33m\u001b[0m\u001b[0m\n\u001b[0;32m    777\u001b[0m         \u001b[1;32mif\u001b[0m \u001b[0mresult\u001b[0m\u001b[1;33m.\u001b[0m\u001b[0mserver_status\u001b[0m \u001b[1;32mis\u001b[0m \u001b[1;32mnot\u001b[0m \u001b[1;32mNone\u001b[0m\u001b[1;33m:\u001b[0m\u001b[1;33m\u001b[0m\u001b[1;33m\u001b[0m\u001b[0m\n",
      "\u001b[1;32mC:\\ProgramData\\anaconda3\\lib\\site-packages\\pymysql\\connections.py\u001b[0m in \u001b[0;36mread\u001b[1;34m(self)\u001b[0m\n\u001b[0;32m   1154\u001b[0m     \u001b[1;32mdef\u001b[0m \u001b[0mread\u001b[0m\u001b[1;33m(\u001b[0m\u001b[0mself\u001b[0m\u001b[1;33m)\u001b[0m\u001b[1;33m:\u001b[0m\u001b[1;33m\u001b[0m\u001b[1;33m\u001b[0m\u001b[0m\n\u001b[0;32m   1155\u001b[0m         \u001b[1;32mtry\u001b[0m\u001b[1;33m:\u001b[0m\u001b[1;33m\u001b[0m\u001b[1;33m\u001b[0m\u001b[0m\n\u001b[1;32m-> 1156\u001b[1;33m             \u001b[0mfirst_packet\u001b[0m \u001b[1;33m=\u001b[0m \u001b[0mself\u001b[0m\u001b[1;33m.\u001b[0m\u001b[0mconnection\u001b[0m\u001b[1;33m.\u001b[0m\u001b[0m_read_packet\u001b[0m\u001b[1;33m(\u001b[0m\u001b[1;33m)\u001b[0m\u001b[1;33m\u001b[0m\u001b[1;33m\u001b[0m\u001b[0m\n\u001b[0m\u001b[0;32m   1157\u001b[0m \u001b[1;33m\u001b[0m\u001b[0m\n\u001b[0;32m   1158\u001b[0m             \u001b[1;32mif\u001b[0m \u001b[0mfirst_packet\u001b[0m\u001b[1;33m.\u001b[0m\u001b[0mis_ok_packet\u001b[0m\u001b[1;33m(\u001b[0m\u001b[1;33m)\u001b[0m\u001b[1;33m:\u001b[0m\u001b[1;33m\u001b[0m\u001b[1;33m\u001b[0m\u001b[0m\n",
      "\u001b[1;32mC:\\ProgramData\\anaconda3\\lib\\site-packages\\pymysql\\connections.py\u001b[0m in \u001b[0;36m_read_packet\u001b[1;34m(self, packet_type)\u001b[0m\n\u001b[0;32m    723\u001b[0m             \u001b[1;32mif\u001b[0m \u001b[0mself\u001b[0m\u001b[1;33m.\u001b[0m\u001b[0m_result\u001b[0m \u001b[1;32mis\u001b[0m \u001b[1;32mnot\u001b[0m \u001b[1;32mNone\u001b[0m \u001b[1;32mand\u001b[0m \u001b[0mself\u001b[0m\u001b[1;33m.\u001b[0m\u001b[0m_result\u001b[0m\u001b[1;33m.\u001b[0m\u001b[0munbuffered_active\u001b[0m \u001b[1;32mis\u001b[0m \u001b[1;32mTrue\u001b[0m\u001b[1;33m:\u001b[0m\u001b[1;33m\u001b[0m\u001b[1;33m\u001b[0m\u001b[0m\n\u001b[0;32m    724\u001b[0m                 \u001b[0mself\u001b[0m\u001b[1;33m.\u001b[0m\u001b[0m_result\u001b[0m\u001b[1;33m.\u001b[0m\u001b[0munbuffered_active\u001b[0m \u001b[1;33m=\u001b[0m \u001b[1;32mFalse\u001b[0m\u001b[1;33m\u001b[0m\u001b[1;33m\u001b[0m\u001b[0m\n\u001b[1;32m--> 725\u001b[1;33m             \u001b[0mpacket\u001b[0m\u001b[1;33m.\u001b[0m\u001b[0mraise_for_error\u001b[0m\u001b[1;33m(\u001b[0m\u001b[1;33m)\u001b[0m\u001b[1;33m\u001b[0m\u001b[1;33m\u001b[0m\u001b[0m\n\u001b[0m\u001b[0;32m    726\u001b[0m         \u001b[1;32mreturn\u001b[0m \u001b[0mpacket\u001b[0m\u001b[1;33m\u001b[0m\u001b[1;33m\u001b[0m\u001b[0m\n\u001b[0;32m    727\u001b[0m \u001b[1;33m\u001b[0m\u001b[0m\n",
      "\u001b[1;32mC:\\ProgramData\\anaconda3\\lib\\site-packages\\pymysql\\protocol.py\u001b[0m in \u001b[0;36mraise_for_error\u001b[1;34m(self)\u001b[0m\n\u001b[0;32m    219\u001b[0m         \u001b[1;32mif\u001b[0m \u001b[0mDEBUG\u001b[0m\u001b[1;33m:\u001b[0m\u001b[1;33m\u001b[0m\u001b[1;33m\u001b[0m\u001b[0m\n\u001b[0;32m    220\u001b[0m             \u001b[0mprint\u001b[0m\u001b[1;33m(\u001b[0m\u001b[1;34m\"errno =\"\u001b[0m\u001b[1;33m,\u001b[0m \u001b[0merrno\u001b[0m\u001b[1;33m)\u001b[0m\u001b[1;33m\u001b[0m\u001b[1;33m\u001b[0m\u001b[0m\n\u001b[1;32m--> 221\u001b[1;33m         \u001b[0merr\u001b[0m\u001b[1;33m.\u001b[0m\u001b[0mraise_mysql_exception\u001b[0m\u001b[1;33m(\u001b[0m\u001b[0mself\u001b[0m\u001b[1;33m.\u001b[0m\u001b[0m_data\u001b[0m\u001b[1;33m)\u001b[0m\u001b[1;33m\u001b[0m\u001b[1;33m\u001b[0m\u001b[0m\n\u001b[0m\u001b[0;32m    222\u001b[0m \u001b[1;33m\u001b[0m\u001b[0m\n\u001b[0;32m    223\u001b[0m     \u001b[1;32mdef\u001b[0m \u001b[0mdump\u001b[0m\u001b[1;33m(\u001b[0m\u001b[0mself\u001b[0m\u001b[1;33m)\u001b[0m\u001b[1;33m:\u001b[0m\u001b[1;33m\u001b[0m\u001b[1;33m\u001b[0m\u001b[0m\n",
      "\u001b[1;32mC:\\ProgramData\\anaconda3\\lib\\site-packages\\pymysql\\err.py\u001b[0m in \u001b[0;36mraise_mysql_exception\u001b[1;34m(data)\u001b[0m\n\u001b[0;32m    141\u001b[0m     \u001b[1;32mif\u001b[0m \u001b[0merrorclass\u001b[0m \u001b[1;32mis\u001b[0m \u001b[1;32mNone\u001b[0m\u001b[1;33m:\u001b[0m\u001b[1;33m\u001b[0m\u001b[1;33m\u001b[0m\u001b[0m\n\u001b[0;32m    142\u001b[0m         \u001b[0merrorclass\u001b[0m \u001b[1;33m=\u001b[0m \u001b[0mInternalError\u001b[0m \u001b[1;32mif\u001b[0m \u001b[0merrno\u001b[0m \u001b[1;33m<\u001b[0m \u001b[1;36m1000\u001b[0m \u001b[1;32melse\u001b[0m \u001b[0mOperationalError\u001b[0m\u001b[1;33m\u001b[0m\u001b[1;33m\u001b[0m\u001b[0m\n\u001b[1;32m--> 143\u001b[1;33m     \u001b[1;32mraise\u001b[0m \u001b[0merrorclass\u001b[0m\u001b[1;33m(\u001b[0m\u001b[0merrno\u001b[0m\u001b[1;33m,\u001b[0m \u001b[0merrval\u001b[0m\u001b[1;33m)\u001b[0m\u001b[1;33m\u001b[0m\u001b[1;33m\u001b[0m\u001b[0m\n\u001b[0m",
      "\u001b[1;31mProgrammingError\u001b[0m: (1146, \"Table 'python_db.test4' doesn't exist\")"
     ]
    }
   ],
   "source": [
    "import pymysql\n",
    "import csv\n",
    "\n",
    "conn = pymysql.connect(host='localhost', user='khweb', password='khWeb@123', db='python_db', charset='utf8')\n",
    "curs = conn.cursor()\n",
    "sql = \"insert into test4 (id,deposit,agent_name,agent_mobile,floor,address,size,size_m2,status,room_type,manage_cost_inc,url,upddt) values (%s,%s,%s,%s,%s,%s,%s,%s,%s,%s,%s,%s, now())\"\n",
    "f = open('crawling_data.csv', 'r', encoding='utf-8')\n",
    "rd = csv.reader(f)\n",
    "\n",
    "#title, description은 이모티콘 인식못하는 에러 -> 일단 제외\n",
    "for line in rd:\n",
    "    curs.execute(sql, (line[0], line[3], line[4], line[5], line[6], line[7], line[8], line[9], line[10], line[11], line[12], line[13]))\n",
    "\n",
    "conn.commit()\n",
    "conn.close()\n",
    "f.close()"
   ]
  },
  {
   "cell_type": "code",
   "execution_count": null,
   "id": "c9f53245",
   "metadata": {},
   "outputs": [],
   "source": []
  }
 ],
 "metadata": {
  "kernelspec": {
   "display_name": "Python 3",
   "language": "python",
   "name": "python3"
  },
  "language_info": {
   "codemirror_mode": {
    "name": "ipython",
    "version": 3
   },
   "file_extension": ".py",
   "mimetype": "text/x-python",
   "name": "python",
   "nbconvert_exporter": "python",
   "pygments_lexer": "ipython3",
   "version": "3.8.8"
  }
 },
 "nbformat": 4,
 "nbformat_minor": 5
}
